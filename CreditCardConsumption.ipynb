{
 "cells": [
  {
   "cell_type": "code",
   "execution_count": 2,
   "metadata": {},
   "outputs": [],
   "source": [
    "import pandas as pd\n",
    "import numpy as np\n",
    "import pandas_profiling as pf\n",
    "from statsmodels.stats.outliers_influence import variance_inflation_factor\n",
    "from sklearn.model_selection import train_test_split\n",
    "import matplotlib.pyplot as plt\n",
    "import seaborn as sns"
   ]
  },
  {
   "cell_type": "code",
   "execution_count": 3,
   "metadata": {},
   "outputs": [
    {
     "data": {
      "text/html": [
       "<div>\n",
       "<style scoped>\n",
       "    .dataframe tbody tr th:only-of-type {\n",
       "        vertical-align: middle;\n",
       "    }\n",
       "\n",
       "    .dataframe tbody tr th {\n",
       "        vertical-align: top;\n",
       "    }\n",
       "\n",
       "    .dataframe thead th {\n",
       "        text-align: right;\n",
       "    }\n",
       "</style>\n",
       "<table border=\"1\" class=\"dataframe\">\n",
       "  <thead>\n",
       "    <tr style=\"text-align: right;\">\n",
       "      <th></th>\n",
       "      <th>ID</th>\n",
       "      <th>account_type</th>\n",
       "      <th>gender</th>\n",
       "      <th>age</th>\n",
       "      <th>Income</th>\n",
       "      <th>Emp_Tenure_Years</th>\n",
       "      <th>Tenure_with_Bank</th>\n",
       "      <th>region_code</th>\n",
       "      <th>NetBanking_Flag</th>\n",
       "      <th>Avg_days_between_transaction</th>\n",
       "    </tr>\n",
       "  </thead>\n",
       "  <tbody>\n",
       "    <tr>\n",
       "      <th>0</th>\n",
       "      <td>19427</td>\n",
       "      <td>current</td>\n",
       "      <td>M</td>\n",
       "      <td>63</td>\n",
       "      <td>MEDIUM</td>\n",
       "      <td>30.1</td>\n",
       "      <td>10</td>\n",
       "      <td>628.0</td>\n",
       "      <td>1</td>\n",
       "      <td>5.0</td>\n",
       "    </tr>\n",
       "    <tr>\n",
       "      <th>1</th>\n",
       "      <td>16150</td>\n",
       "      <td>current</td>\n",
       "      <td>M</td>\n",
       "      <td>36</td>\n",
       "      <td>MEDIUM</td>\n",
       "      <td>14.4</td>\n",
       "      <td>10</td>\n",
       "      <td>656.0</td>\n",
       "      <td>0</td>\n",
       "      <td>12.0</td>\n",
       "    </tr>\n",
       "    <tr>\n",
       "      <th>2</th>\n",
       "      <td>11749</td>\n",
       "      <td>current</td>\n",
       "      <td>F</td>\n",
       "      <td>28</td>\n",
       "      <td>MEDIUM</td>\n",
       "      <td>4.8</td>\n",
       "      <td>10</td>\n",
       "      <td>314.0</td>\n",
       "      <td>1</td>\n",
       "      <td>13.0</td>\n",
       "    </tr>\n",
       "    <tr>\n",
       "      <th>3</th>\n",
       "      <td>11635</td>\n",
       "      <td>current</td>\n",
       "      <td>M</td>\n",
       "      <td>32</td>\n",
       "      <td>MEDIUM</td>\n",
       "      <td>9.6</td>\n",
       "      <td>2</td>\n",
       "      <td>614.0</td>\n",
       "      <td>1</td>\n",
       "      <td>19.0</td>\n",
       "    </tr>\n",
       "    <tr>\n",
       "      <th>4</th>\n",
       "      <td>8908</td>\n",
       "      <td>current</td>\n",
       "      <td>M</td>\n",
       "      <td>32</td>\n",
       "      <td>HIGH</td>\n",
       "      <td>12.0</td>\n",
       "      <td>7</td>\n",
       "      <td>750.0</td>\n",
       "      <td>1</td>\n",
       "      <td>18.0</td>\n",
       "    </tr>\n",
       "  </tbody>\n",
       "</table>\n",
       "</div>"
      ],
      "text/plain": [
       "      ID account_type gender  age  Income  Emp_Tenure_Years  Tenure_with_Bank  \\\n",
       "0  19427      current      M   63  MEDIUM              30.1                10   \n",
       "1  16150      current      M   36  MEDIUM              14.4                10   \n",
       "2  11749      current      F   28  MEDIUM               4.8                10   \n",
       "3  11635      current      M   32  MEDIUM               9.6                 2   \n",
       "4   8908      current      M   32    HIGH              12.0                 7   \n",
       "\n",
       "   region_code  NetBanking_Flag  Avg_days_between_transaction  \n",
       "0        628.0                1                           5.0  \n",
       "1        656.0                0                          12.0  \n",
       "2        314.0                1                          13.0  \n",
       "3        614.0                1                          19.0  \n",
       "4        750.0                1                          18.0  "
      ]
     },
     "execution_count": 3,
     "metadata": {},
     "output_type": "execute_result"
    }
   ],
   "source": [
    "custDemo = pd.read_excel(r'D:\\AnalytxLabs\\Machine Learning Projects\\11. Capstone Case Study - Predict Cred Card Consumption\\CustomerDemographics.xlsx')\n",
    "custDemo.head()"
   ]
  },
  {
   "cell_type": "code",
   "execution_count": 4,
   "metadata": {},
   "outputs": [
    {
     "data": {
      "text/html": [
       "<div>\n",
       "<style scoped>\n",
       "    .dataframe tbody tr th:only-of-type {\n",
       "        vertical-align: middle;\n",
       "    }\n",
       "\n",
       "    .dataframe tbody tr th {\n",
       "        vertical-align: top;\n",
       "    }\n",
       "\n",
       "    .dataframe thead th {\n",
       "        text-align: right;\n",
       "    }\n",
       "</style>\n",
       "<table border=\"1\" class=\"dataframe\">\n",
       "  <thead>\n",
       "    <tr style=\"text-align: right;\">\n",
       "      <th></th>\n",
       "      <th>ID</th>\n",
       "      <th>cc_cons_apr</th>\n",
       "      <th>dc_cons_apr</th>\n",
       "      <th>cc_cons_may</th>\n",
       "      <th>dc_cons_may</th>\n",
       "      <th>cc_cons_jun</th>\n",
       "      <th>dc_cons_jun</th>\n",
       "      <th>cc_count_apr</th>\n",
       "      <th>cc_count_may</th>\n",
       "      <th>cc_count_jun</th>\n",
       "      <th>...</th>\n",
       "      <th>credit_count_may</th>\n",
       "      <th>debit_count_may</th>\n",
       "      <th>max_credit_amount_may</th>\n",
       "      <th>debit_amount_jun</th>\n",
       "      <th>credit_amount_jun</th>\n",
       "      <th>credit_count_jun</th>\n",
       "      <th>debit_count_jun</th>\n",
       "      <th>max_credit_amount_jun</th>\n",
       "      <th>loan_enq</th>\n",
       "      <th>emi_active</th>\n",
       "    </tr>\n",
       "  </thead>\n",
       "  <tbody>\n",
       "    <tr>\n",
       "      <th>0</th>\n",
       "      <td>17051</td>\n",
       "      <td>3412.60</td>\n",
       "      <td>2909.34</td>\n",
       "      <td>1077.36</td>\n",
       "      <td>3084.50</td>\n",
       "      <td>4615.97</td>\n",
       "      <td>6693.0</td>\n",
       "      <td>19.0</td>\n",
       "      <td>10</td>\n",
       "      <td>2</td>\n",
       "      <td>...</td>\n",
       "      <td>1</td>\n",
       "      <td>108</td>\n",
       "      <td>97916.0</td>\n",
       "      <td>45253.64</td>\n",
       "      <td>47635.00</td>\n",
       "      <td>2</td>\n",
       "      <td>18</td>\n",
       "      <td>19947.0</td>\n",
       "      <td>Y</td>\n",
       "      <td>3448.84</td>\n",
       "    </tr>\n",
       "    <tr>\n",
       "      <th>1</th>\n",
       "      <td>11491</td>\n",
       "      <td>18133.76</td>\n",
       "      <td>3877.00</td>\n",
       "      <td>6123.78</td>\n",
       "      <td>5597.43</td>\n",
       "      <td>64620.00</td>\n",
       "      <td>6117.0</td>\n",
       "      <td>4.0</td>\n",
       "      <td>60</td>\n",
       "      <td>1</td>\n",
       "      <td>...</td>\n",
       "      <td>1</td>\n",
       "      <td>4</td>\n",
       "      <td>25125.0</td>\n",
       "      <td>12912.33</td>\n",
       "      <td>18369.00</td>\n",
       "      <td>3</td>\n",
       "      <td>49</td>\n",
       "      <td>20585.0</td>\n",
       "      <td>Y</td>\n",
       "      <td>3812.69</td>\n",
       "    </tr>\n",
       "    <tr>\n",
       "      <th>2</th>\n",
       "      <td>7433</td>\n",
       "      <td>6363.65</td>\n",
       "      <td>735.49</td>\n",
       "      <td>8799.00</td>\n",
       "      <td>13768.00</td>\n",
       "      <td>38266.00</td>\n",
       "      <td>2638.0</td>\n",
       "      <td>2.0</td>\n",
       "      <td>83</td>\n",
       "      <td>47</td>\n",
       "      <td>...</td>\n",
       "      <td>70</td>\n",
       "      <td>11</td>\n",
       "      <td>38546.0</td>\n",
       "      <td>93567.51</td>\n",
       "      <td>26713.00</td>\n",
       "      <td>47</td>\n",
       "      <td>49</td>\n",
       "      <td>13950.0</td>\n",
       "      <td>Y</td>\n",
       "      <td>9432.90</td>\n",
       "    </tr>\n",
       "    <tr>\n",
       "      <th>3</th>\n",
       "      <td>14606</td>\n",
       "      <td>12765.66</td>\n",
       "      <td>4429.16</td>\n",
       "      <td>16745.86</td>\n",
       "      <td>6360.00</td>\n",
       "      <td>29063.97</td>\n",
       "      <td>3711.0</td>\n",
       "      <td>12.0</td>\n",
       "      <td>2</td>\n",
       "      <td>16</td>\n",
       "      <td>...</td>\n",
       "      <td>43</td>\n",
       "      <td>1</td>\n",
       "      <td>180315.0</td>\n",
       "      <td>176394.48</td>\n",
       "      <td>35062.74</td>\n",
       "      <td>3</td>\n",
       "      <td>37</td>\n",
       "      <td>37018.0</td>\n",
       "      <td>Y</td>\n",
       "      <td>144.61</td>\n",
       "    </tr>\n",
       "    <tr>\n",
       "      <th>4</th>\n",
       "      <td>8381</td>\n",
       "      <td>27819.70</td>\n",
       "      <td>1944.00</td>\n",
       "      <td>7006.50</td>\n",
       "      <td>2228.50</td>\n",
       "      <td>1096.25</td>\n",
       "      <td>1065.0</td>\n",
       "      <td>15.0</td>\n",
       "      <td>13</td>\n",
       "      <td>61</td>\n",
       "      <td>...</td>\n",
       "      <td>2</td>\n",
       "      <td>14</td>\n",
       "      <td>13480.0</td>\n",
       "      <td>3167.00</td>\n",
       "      <td>19056.00</td>\n",
       "      <td>2</td>\n",
       "      <td>15</td>\n",
       "      <td>24274.0</td>\n",
       "      <td>Y</td>\n",
       "      <td>1887.89</td>\n",
       "    </tr>\n",
       "  </tbody>\n",
       "</table>\n",
       "<p>5 rows × 39 columns</p>\n",
       "</div>"
      ],
      "text/plain": [
       "      ID  cc_cons_apr  dc_cons_apr  cc_cons_may  dc_cons_may  cc_cons_jun  \\\n",
       "0  17051      3412.60      2909.34      1077.36      3084.50      4615.97   \n",
       "1  11491     18133.76      3877.00      6123.78      5597.43     64620.00   \n",
       "2   7433      6363.65       735.49      8799.00     13768.00     38266.00   \n",
       "3  14606     12765.66      4429.16     16745.86      6360.00     29063.97   \n",
       "4   8381     27819.70      1944.00      7006.50      2228.50      1096.25   \n",
       "\n",
       "   dc_cons_jun  cc_count_apr  cc_count_may  cc_count_jun  ...  \\\n",
       "0       6693.0          19.0            10             2  ...   \n",
       "1       6117.0           4.0            60             1  ...   \n",
       "2       2638.0           2.0            83            47  ...   \n",
       "3       3711.0          12.0             2            16  ...   \n",
       "4       1065.0          15.0            13            61  ...   \n",
       "\n",
       "   credit_count_may  debit_count_may  max_credit_amount_may  debit_amount_jun  \\\n",
       "0                 1              108                97916.0          45253.64   \n",
       "1                 1                4                25125.0          12912.33   \n",
       "2                70               11                38546.0          93567.51   \n",
       "3                43                1               180315.0         176394.48   \n",
       "4                 2               14                13480.0           3167.00   \n",
       "\n",
       "   credit_amount_jun  credit_count_jun  debit_count_jun  \\\n",
       "0           47635.00                 2               18   \n",
       "1           18369.00                 3               49   \n",
       "2           26713.00                47               49   \n",
       "3           35062.74                 3               37   \n",
       "4           19056.00                 2               15   \n",
       "\n",
       "   max_credit_amount_jun  loan_enq  emi_active  \n",
       "0                19947.0         Y     3448.84  \n",
       "1                20585.0         Y     3812.69  \n",
       "2                13950.0         Y     9432.90  \n",
       "3                37018.0         Y      144.61  \n",
       "4                24274.0         Y     1887.89  \n",
       "\n",
       "[5 rows x 39 columns]"
      ]
     },
     "execution_count": 4,
     "metadata": {},
     "output_type": "execute_result"
    }
   ],
   "source": [
    "custBehaviour = pd.read_excel(r'D:\\AnalytxLabs\\Machine Learning Projects\\11. Capstone Case Study - Predict Cred Card Consumption\\CustomerBehaviorData.xlsx')\n",
    "custBehaviour.head()"
   ]
  },
  {
   "cell_type": "code",
   "execution_count": 5,
   "metadata": {},
   "outputs": [
    {
     "data": {
      "text/html": [
       "<div>\n",
       "<style scoped>\n",
       "    .dataframe tbody tr th:only-of-type {\n",
       "        vertical-align: middle;\n",
       "    }\n",
       "\n",
       "    .dataframe tbody tr th {\n",
       "        vertical-align: top;\n",
       "    }\n",
       "\n",
       "    .dataframe thead th {\n",
       "        text-align: right;\n",
       "    }\n",
       "</style>\n",
       "<table border=\"1\" class=\"dataframe\">\n",
       "  <thead>\n",
       "    <tr style=\"text-align: right;\">\n",
       "      <th></th>\n",
       "      <th>ID</th>\n",
       "      <th>cc_cons</th>\n",
       "    </tr>\n",
       "  </thead>\n",
       "  <tbody>\n",
       "    <tr>\n",
       "      <th>0</th>\n",
       "      <td>12554</td>\n",
       "      <td>20014.0</td>\n",
       "    </tr>\n",
       "    <tr>\n",
       "      <th>1</th>\n",
       "      <td>17645</td>\n",
       "      <td>10173.0</td>\n",
       "    </tr>\n",
       "    <tr>\n",
       "      <th>2</th>\n",
       "      <td>7604</td>\n",
       "      <td>16095.0</td>\n",
       "    </tr>\n",
       "    <tr>\n",
       "      <th>3</th>\n",
       "      <td>1590</td>\n",
       "      <td>7707.0</td>\n",
       "    </tr>\n",
       "    <tr>\n",
       "      <th>4</th>\n",
       "      <td>16556</td>\n",
       "      <td>96408.0</td>\n",
       "    </tr>\n",
       "  </tbody>\n",
       "</table>\n",
       "</div>"
      ],
      "text/plain": [
       "      ID  cc_cons\n",
       "0  12554  20014.0\n",
       "1  17645  10173.0\n",
       "2   7604  16095.0\n",
       "3   1590   7707.0\n",
       "4  16556  96408.0"
      ]
     },
     "execution_count": 5,
     "metadata": {},
     "output_type": "execute_result"
    }
   ],
   "source": [
    "credConsumption = pd.read_excel(r'D:\\AnalytxLabs\\Machine Learning Projects\\11. Capstone Case Study - Predict Cred Card Consumption\\CreditConsumptionData.xlsx')\n",
    "credConsumption.head()"
   ]
  },
  {
   "cell_type": "code",
   "execution_count": 6,
   "metadata": {},
   "outputs": [],
   "source": [
    "cust_demo_behaviour = pd.merge(left= custDemo, right = custBehaviour, on= 'ID', how= 'left')"
   ]
  },
  {
   "cell_type": "code",
   "execution_count": 7,
   "metadata": {},
   "outputs": [],
   "source": [
    "cust_cred_consumption = pd.merge(left= cust_demo_behaviour, right = credConsumption, on= 'ID', how= 'left')"
   ]
  },
  {
   "cell_type": "code",
   "execution_count": 8,
   "metadata": {},
   "outputs": [
    {
     "data": {
      "text/plain": [
       "0"
      ]
     },
     "execution_count": 8,
     "metadata": {},
     "output_type": "execute_result"
    }
   ],
   "source": [
    "sum(cust_cred_consumption.duplicated())"
   ]
  },
  {
   "cell_type": "code",
   "execution_count": 9,
   "metadata": {},
   "outputs": [
    {
     "data": {
      "text/plain": [
       "ID                                 0\n",
       "account_type                       1\n",
       "gender                             1\n",
       "age                                0\n",
       "Income                             1\n",
       "Emp_Tenure_Years                   0\n",
       "Tenure_with_Bank                   0\n",
       "region_code                        1\n",
       "NetBanking_Flag                    0\n",
       "Avg_days_between_transaction       3\n",
       "cc_cons_apr                        0\n",
       "dc_cons_apr                        0\n",
       "cc_cons_may                        1\n",
       "dc_cons_may                        0\n",
       "cc_cons_jun                        0\n",
       "dc_cons_jun                        1\n",
       "cc_count_apr                       1\n",
       "cc_count_may                       0\n",
       "cc_count_jun                       0\n",
       "dc_count_apr                       0\n",
       "dc_count_may                       0\n",
       "dc_count_jun                       0\n",
       "card_lim                           0\n",
       "personal_loan_active               0\n",
       "vehicle_loan_active                0\n",
       "personal_loan_closed               1\n",
       "vehicle_loan_closed                0\n",
       "investment_1                       0\n",
       "investment_2                       0\n",
       "investment_3                       2\n",
       "investment_4                       0\n",
       "debit_amount_apr                   0\n",
       "credit_amount_apr                  0\n",
       "debit_count_apr                    1\n",
       "credit_count_apr                   0\n",
       "max_credit_amount_apr              0\n",
       "debit_amount_may                   0\n",
       "credit_amount_may                  0\n",
       "credit_count_may                   0\n",
       "debit_count_may                    0\n",
       "max_credit_amount_may              0\n",
       "debit_amount_jun                   0\n",
       "credit_amount_jun                  0\n",
       "credit_count_jun                   0\n",
       "debit_count_jun                    0\n",
       "max_credit_amount_jun              0\n",
       "loan_enq                           2\n",
       "emi_active                         1\n",
       "cc_cons                         5000\n",
       "dtype: int64"
      ]
     },
     "execution_count": 9,
     "metadata": {},
     "output_type": "execute_result"
    }
   ],
   "source": [
    "cust_cred_consumption.isna().sum()"
   ]
  },
  {
   "cell_type": "code",
   "execution_count": 10,
   "metadata": {},
   "outputs": [
    {
     "data": {
      "text/plain": [
       "20000"
      ]
     },
     "execution_count": 10,
     "metadata": {},
     "output_type": "execute_result"
    }
   ],
   "source": [
    "cust_cred_consumption.ID.value_counts().count()"
   ]
  },
  {
   "cell_type": "code",
   "execution_count": 11,
   "metadata": {},
   "outputs": [],
   "source": [
    "report = pf.ProfileReport(cust_cred_consumption)"
   ]
  },
  {
   "cell_type": "code",
   "execution_count": null,
   "metadata": {},
   "outputs": [],
   "source": [
    "report.to_file('report.html')"
   ]
  },
  {
   "cell_type": "code",
   "execution_count": 13,
   "metadata": {},
   "outputs": [],
   "source": [
    "custCred_existing = cust_cred_consumption[cust_cred_consumption.cc_cons.isnull() == 0]\n",
    "custCred_new = cust_cred_consumption[cust_cred_consumption.cc_cons.isnull() == 1]"
   ]
  },
  {
   "cell_type": "code",
   "execution_count": 14,
   "metadata": {},
   "outputs": [
    {
     "data": {
      "text/plain": [
       "(15000, 49)"
      ]
     },
     "execution_count": 14,
     "metadata": {},
     "output_type": "execute_result"
    }
   ],
   "source": [
    "custCred_existing.shape"
   ]
  },
  {
   "cell_type": "code",
   "execution_count": 15,
   "metadata": {},
   "outputs": [
    {
     "data": {
      "text/plain": [
       "(5000, 49)"
      ]
     },
     "execution_count": 15,
     "metadata": {},
     "output_type": "execute_result"
    }
   ],
   "source": [
    "custCred_new.shape"
   ]
  },
  {
   "cell_type": "code",
   "execution_count": 16,
   "metadata": {},
   "outputs": [
    {
     "name": "stdout",
     "output_type": "stream",
     "text": [
      "<class 'pandas.core.frame.DataFrame'>\n",
      "Int64Index: 15000 entries, 111 to 15110\n",
      "Data columns (total 49 columns):\n",
      " #   Column                        Non-Null Count  Dtype  \n",
      "---  ------                        --------------  -----  \n",
      " 0   ID                            15000 non-null  int64  \n",
      " 1   account_type                  15000 non-null  object \n",
      " 2   gender                        15000 non-null  object \n",
      " 3   age                           15000 non-null  int64  \n",
      " 4   Income                        15000 non-null  object \n",
      " 5   Emp_Tenure_Years              15000 non-null  float64\n",
      " 6   Tenure_with_Bank              15000 non-null  int64  \n",
      " 7   region_code                   15000 non-null  float64\n",
      " 8   NetBanking_Flag               15000 non-null  int64  \n",
      " 9   Avg_days_between_transaction  14999 non-null  float64\n",
      " 10  cc_cons_apr                   15000 non-null  float64\n",
      " 11  dc_cons_apr                   15000 non-null  float64\n",
      " 12  cc_cons_may                   15000 non-null  float64\n",
      " 13  dc_cons_may                   15000 non-null  float64\n",
      " 14  cc_cons_jun                   15000 non-null  float64\n",
      " 15  dc_cons_jun                   15000 non-null  float64\n",
      " 16  cc_count_apr                  14999 non-null  float64\n",
      " 17  cc_count_may                  15000 non-null  int64  \n",
      " 18  cc_count_jun                  15000 non-null  int64  \n",
      " 19  dc_count_apr                  15000 non-null  int64  \n",
      " 20  dc_count_may                  15000 non-null  int64  \n",
      " 21  dc_count_jun                  15000 non-null  int64  \n",
      " 22  card_lim                      15000 non-null  int64  \n",
      " 23  personal_loan_active          15000 non-null  int64  \n",
      " 24  vehicle_loan_active           15000 non-null  int64  \n",
      " 25  personal_loan_closed          14999 non-null  float64\n",
      " 26  vehicle_loan_closed           15000 non-null  int64  \n",
      " 27  investment_1                  15000 non-null  float64\n",
      " 28  investment_2                  15000 non-null  float64\n",
      " 29  investment_3                  14998 non-null  float64\n",
      " 30  investment_4                  15000 non-null  float64\n",
      " 31  debit_amount_apr              15000 non-null  float64\n",
      " 32  credit_amount_apr             15000 non-null  float64\n",
      " 33  debit_count_apr               14999 non-null  float64\n",
      " 34  credit_count_apr              15000 non-null  int64  \n",
      " 35  max_credit_amount_apr         15000 non-null  float64\n",
      " 36  debit_amount_may              15000 non-null  float64\n",
      " 37  credit_amount_may             15000 non-null  float64\n",
      " 38  credit_count_may              15000 non-null  int64  \n",
      " 39  debit_count_may               15000 non-null  int64  \n",
      " 40  max_credit_amount_may         15000 non-null  float64\n",
      " 41  debit_amount_jun              15000 non-null  float64\n",
      " 42  credit_amount_jun             15000 non-null  float64\n",
      " 43  credit_count_jun              15000 non-null  int64  \n",
      " 44  debit_count_jun               15000 non-null  int64  \n",
      " 45  max_credit_amount_jun         15000 non-null  float64\n",
      " 46  loan_enq                      14998 non-null  object \n",
      " 47  emi_active                    14999 non-null  float64\n",
      " 48  cc_cons                       15000 non-null  float64\n",
      "dtypes: float64(27), int64(18), object(4)\n",
      "memory usage: 5.7+ MB\n"
     ]
    }
   ],
   "source": [
    "custCred_existing.info()"
   ]
  },
  {
   "cell_type": "code",
   "execution_count": 17,
   "metadata": {},
   "outputs": [],
   "source": [
    "def missing_value(x):\n",
    "    if x.dtype == 'object':\n",
    "        x = x.fillna(x.mode()[0])\n",
    "    else:\n",
    "        x = x.fillna(x.median())\n",
    "    return x"
   ]
  },
  {
   "cell_type": "code",
   "execution_count": 19,
   "metadata": {},
   "outputs": [],
   "source": [
    "def outliers_treatment(x):\n",
    "    if (x.dtype == 'float64') or (x.dtype == 'int64'):\n",
    "        x = x.clip(lower = x.quantile(0.01), upper = x.quantile(0.99))\n",
    "    else:\n",
    "        x\n",
    "    return x"
   ]
  },
  {
   "cell_type": "code",
   "execution_count": 20,
   "metadata": {},
   "outputs": [],
   "source": [
    "custCred_existing = custCred_existing.apply(missing_value)\n",
    "custCred_existing = custCred_existing.apply(outliers_treatment)"
   ]
  },
  {
   "cell_type": "code",
   "execution_count": 21,
   "metadata": {},
   "outputs": [],
   "source": [
    "custCred_existing = pd.get_dummies(custCred_existing,columns=['account_type','gender','Income','loan_enq'],drop_first= True)"
   ]
  },
  {
   "cell_type": "code",
   "execution_count": 22,
   "metadata": {},
   "outputs": [
    {
     "data": {
      "text/plain": [
       "<AxesSubplot:xlabel='investment_1', ylabel='Frequency'>"
      ]
     },
     "execution_count": 22,
     "metadata": {},
     "output_type": "execute_result"
    }
   ],
   "source": [
    "custCred_existing.cc_cons.plot(kind = 'hist', bins = 10)"
   ]
  },
  {
   "cell_type": "code",
   "execution_count": 33,
   "metadata": {},
   "outputs": [
    {
     "name": "stderr",
     "output_type": "stream",
     "text": [
      "C:\\ProgramData\\Anaconda3\\lib\\site-packages\\seaborn\\distributions.py:2557: FutureWarning: `distplot` is a deprecated function and will be removed in a future version. Please adapt your code to use either `displot` (a figure-level function with similar flexibility) or `histplot` (an axes-level function for histograms).\n",
      "  warnings.warn(msg, FutureWarning)\n",
      "<ipython-input-33-bd43d669f110>:2: UserWarning: Matplotlib is currently using agg, which is a non-GUI backend, so cannot show the figure.\n",
      "  plt.show()\n"
     ]
    }
   ],
   "source": [
    "sns.distplot(custCred_existing.cc_cons)\n",
    "plt.show()"
   ]
  },
  {
   "cell_type": "code",
   "execution_count": 24,
   "metadata": {},
   "outputs": [
    {
     "name": "stderr",
     "output_type": "stream",
     "text": [
      "C:\\ProgramData\\Anaconda3\\lib\\site-packages\\seaborn\\distributions.py:2557: FutureWarning: `distplot` is a deprecated function and will be removed in a future version. Please adapt your code to use either `displot` (a figure-level function with similar flexibility) or `histplot` (an axes-level function for histograms).\n",
      "  warnings.warn(msg, FutureWarning)\n",
      "<ipython-input-24-1ec6fe5c90e1>:2: UserWarning: Matplotlib is currently using agg, which is a non-GUI backend, so cannot show the figure.\n",
      "  plt.show()\n"
     ]
    }
   ],
   "source": [
    "sns.distplot(np.log(custCred_existing.cc_cons))\n",
    "plt.show()"
   ]
  },
  {
   "cell_type": "code",
   "execution_count": 25,
   "metadata": {},
   "outputs": [],
   "source": [
    "custCred_existing['ln_cc_cons'] = np.log(custCred_existing.cc_cons)"
   ]
  },
  {
   "cell_type": "code",
   "execution_count": 26,
   "metadata": {},
   "outputs": [
    {
     "data": {
      "text/html": [
       "<div>\n",
       "<style scoped>\n",
       "    .dataframe tbody tr th:only-of-type {\n",
       "        vertical-align: middle;\n",
       "    }\n",
       "\n",
       "    .dataframe tbody tr th {\n",
       "        vertical-align: top;\n",
       "    }\n",
       "\n",
       "    .dataframe thead th {\n",
       "        text-align: right;\n",
       "    }\n",
       "</style>\n",
       "<table border=\"1\" class=\"dataframe\">\n",
       "  <thead>\n",
       "    <tr style=\"text-align: right;\">\n",
       "      <th></th>\n",
       "      <th>ID</th>\n",
       "      <th>age</th>\n",
       "      <th>Emp_Tenure_Years</th>\n",
       "      <th>Tenure_with_Bank</th>\n",
       "      <th>region_code</th>\n",
       "      <th>NetBanking_Flag</th>\n",
       "      <th>Avg_days_between_transaction</th>\n",
       "      <th>cc_cons_apr</th>\n",
       "      <th>dc_cons_apr</th>\n",
       "      <th>cc_cons_may</th>\n",
       "      <th>...</th>\n",
       "      <th>credit_count_jun</th>\n",
       "      <th>debit_count_jun</th>\n",
       "      <th>max_credit_amount_jun</th>\n",
       "      <th>emi_active</th>\n",
       "      <th>cc_cons</th>\n",
       "      <th>account_type_saving</th>\n",
       "      <th>gender_M</th>\n",
       "      <th>Income_LOW</th>\n",
       "      <th>Income_MEDIUM</th>\n",
       "      <th>ln_cc_cons</th>\n",
       "    </tr>\n",
       "  </thead>\n",
       "  <tbody>\n",
       "    <tr>\n",
       "      <th>111</th>\n",
       "      <td>12554.0</td>\n",
       "      <td>35</td>\n",
       "      <td>15.0</td>\n",
       "      <td>1</td>\n",
       "      <td>708.0</td>\n",
       "      <td>0</td>\n",
       "      <td>17.0</td>\n",
       "      <td>24893.00</td>\n",
       "      <td>378.00</td>\n",
       "      <td>10288.00</td>\n",
       "      <td>...</td>\n",
       "      <td>2</td>\n",
       "      <td>65</td>\n",
       "      <td>50836.0</td>\n",
       "      <td>1674.09</td>\n",
       "      <td>20014.0</td>\n",
       "      <td>0</td>\n",
       "      <td>1</td>\n",
       "      <td>0</td>\n",
       "      <td>1</td>\n",
       "      <td>9.904187</td>\n",
       "    </tr>\n",
       "    <tr>\n",
       "      <th>112</th>\n",
       "      <td>17645.0</td>\n",
       "      <td>35</td>\n",
       "      <td>15.0</td>\n",
       "      <td>6</td>\n",
       "      <td>233.0</td>\n",
       "      <td>0</td>\n",
       "      <td>14.0</td>\n",
       "      <td>18941.62</td>\n",
       "      <td>966.00</td>\n",
       "      <td>20672.00</td>\n",
       "      <td>...</td>\n",
       "      <td>21</td>\n",
       "      <td>63</td>\n",
       "      <td>23226.0</td>\n",
       "      <td>13043.34</td>\n",
       "      <td>10173.0</td>\n",
       "      <td>0</td>\n",
       "      <td>1</td>\n",
       "      <td>0</td>\n",
       "      <td>0</td>\n",
       "      <td>9.227492</td>\n",
       "    </tr>\n",
       "    <tr>\n",
       "      <th>113</th>\n",
       "      <td>7604.0</td>\n",
       "      <td>55</td>\n",
       "      <td>24.5</td>\n",
       "      <td>1</td>\n",
       "      <td>802.0</td>\n",
       "      <td>1</td>\n",
       "      <td>3.0</td>\n",
       "      <td>5678.87</td>\n",
       "      <td>2724.00</td>\n",
       "      <td>1964.50</td>\n",
       "      <td>...</td>\n",
       "      <td>7</td>\n",
       "      <td>1</td>\n",
       "      <td>27036.0</td>\n",
       "      <td>25375.27</td>\n",
       "      <td>16095.0</td>\n",
       "      <td>0</td>\n",
       "      <td>1</td>\n",
       "      <td>0</td>\n",
       "      <td>1</td>\n",
       "      <td>9.686264</td>\n",
       "    </tr>\n",
       "    <tr>\n",
       "      <th>114</th>\n",
       "      <td>1590.0</td>\n",
       "      <td>29</td>\n",
       "      <td>4.5</td>\n",
       "      <td>6</td>\n",
       "      <td>867.0</td>\n",
       "      <td>1</td>\n",
       "      <td>4.0</td>\n",
       "      <td>30489.50</td>\n",
       "      <td>1236.00</td>\n",
       "      <td>12609.88</td>\n",
       "      <td>...</td>\n",
       "      <td>21</td>\n",
       "      <td>83</td>\n",
       "      <td>43037.0</td>\n",
       "      <td>3544.33</td>\n",
       "      <td>7707.0</td>\n",
       "      <td>0</td>\n",
       "      <td>0</td>\n",
       "      <td>0</td>\n",
       "      <td>1</td>\n",
       "      <td>8.949884</td>\n",
       "    </tr>\n",
       "    <tr>\n",
       "      <th>115</th>\n",
       "      <td>16556.0</td>\n",
       "      <td>34</td>\n",
       "      <td>12.6</td>\n",
       "      <td>4</td>\n",
       "      <td>802.0</td>\n",
       "      <td>1</td>\n",
       "      <td>7.0</td>\n",
       "      <td>7441.40</td>\n",
       "      <td>6906.04</td>\n",
       "      <td>4364.00</td>\n",
       "      <td>...</td>\n",
       "      <td>8</td>\n",
       "      <td>32</td>\n",
       "      <td>32044.0</td>\n",
       "      <td>12780.44</td>\n",
       "      <td>96408.0</td>\n",
       "      <td>0</td>\n",
       "      <td>1</td>\n",
       "      <td>0</td>\n",
       "      <td>1</td>\n",
       "      <td>11.476344</td>\n",
       "    </tr>\n",
       "  </tbody>\n",
       "</table>\n",
       "<p>5 rows × 50 columns</p>\n",
       "</div>"
      ],
      "text/plain": [
       "          ID  age  Emp_Tenure_Years  Tenure_with_Bank  region_code  \\\n",
       "111  12554.0   35              15.0                 1        708.0   \n",
       "112  17645.0   35              15.0                 6        233.0   \n",
       "113   7604.0   55              24.5                 1        802.0   \n",
       "114   1590.0   29               4.5                 6        867.0   \n",
       "115  16556.0   34              12.6                 4        802.0   \n",
       "\n",
       "     NetBanking_Flag  Avg_days_between_transaction  cc_cons_apr  dc_cons_apr  \\\n",
       "111                0                          17.0     24893.00       378.00   \n",
       "112                0                          14.0     18941.62       966.00   \n",
       "113                1                           3.0      5678.87      2724.00   \n",
       "114                1                           4.0     30489.50      1236.00   \n",
       "115                1                           7.0      7441.40      6906.04   \n",
       "\n",
       "     cc_cons_may  ...  credit_count_jun  debit_count_jun  \\\n",
       "111     10288.00  ...                 2               65   \n",
       "112     20672.00  ...                21               63   \n",
       "113      1964.50  ...                 7                1   \n",
       "114     12609.88  ...                21               83   \n",
       "115      4364.00  ...                 8               32   \n",
       "\n",
       "     max_credit_amount_jun  emi_active  cc_cons  account_type_saving  \\\n",
       "111                50836.0     1674.09  20014.0                    0   \n",
       "112                23226.0    13043.34  10173.0                    0   \n",
       "113                27036.0    25375.27  16095.0                    0   \n",
       "114                43037.0     3544.33   7707.0                    0   \n",
       "115                32044.0    12780.44  96408.0                    0   \n",
       "\n",
       "     gender_M  Income_LOW  Income_MEDIUM  ln_cc_cons  \n",
       "111         1           0              1    9.904187  \n",
       "112         1           0              0    9.227492  \n",
       "113         1           0              1    9.686264  \n",
       "114         0           0              1    8.949884  \n",
       "115         1           0              1   11.476344  \n",
       "\n",
       "[5 rows x 50 columns]"
      ]
     },
     "execution_count": 26,
     "metadata": {},
     "output_type": "execute_result"
    }
   ],
   "source": [
    "custCred_existing.head()"
   ]
  },
  {
   "cell_type": "code",
   "execution_count": 28,
   "metadata": {},
   "outputs": [],
   "source": [
    "corr = custCred_existing.corrwith(custCred_existing.ln_cc_cons)"
   ]
  },
  {
   "cell_type": "code",
   "execution_count": 30,
   "metadata": {},
   "outputs": [],
   "source": [
    "corr.to_csv('corr.csv')"
   ]
  },
  {
   "cell_type": "code",
   "execution_count": 39,
   "metadata": {},
   "outputs": [
    {
     "data": {
      "text/plain": [
       "cc_cons       0.825807\n",
       "ln_cc_cons    1.000000\n",
       "dtype: float64"
      ]
     },
     "execution_count": 39,
     "metadata": {},
     "output_type": "execute_result"
    }
   ],
   "source": [
    "corr[np.abs(corr > 0.05)]"
   ]
  },
  {
   "cell_type": "code",
   "execution_count": null,
   "metadata": {},
   "outputs": [],
   "source": []
  }
 ],
 "metadata": {
  "interpreter": {
   "hash": "b3ba2566441a7c06988d0923437866b63cedc61552a5af99d1f4fb67d367b25f"
  },
  "kernelspec": {
   "display_name": "Python 3.8.8 64-bit ('base': conda)",
   "language": "python",
   "name": "python3"
  },
  "language_info": {
   "codemirror_mode": {
    "name": "ipython",
    "version": 3
   },
   "file_extension": ".py",
   "mimetype": "text/x-python",
   "name": "python",
   "nbconvert_exporter": "python",
   "pygments_lexer": "ipython3",
   "version": "3.8.8"
  },
  "orig_nbformat": 4
 },
 "nbformat": 4,
 "nbformat_minor": 2
}
